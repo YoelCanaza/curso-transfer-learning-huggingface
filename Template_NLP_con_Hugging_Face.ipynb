{
  "nbformat": 4,
  "nbformat_minor": 0,
  "metadata": {
    "colab": {
      "provenance": [],
      "include_colab_link": true
    },
    "kernelspec": {
      "name": "python3",
      "display_name": "Python 3"
    },
    "language_info": {
      "name": "python"
    },
    "accelerator": "GPU",
    "gpuClass": "standard"
  },
  "cells": [
    {
      "cell_type": "markdown",
      "metadata": {
        "id": "view-in-github",
        "colab_type": "text"
      },
      "source": [
        "<a href=\"https://colab.research.google.com/github/YoelCanaza/curso-transfer-learning-huggingface/blob/main/Template_NLP_con_Hugging_Face.ipynb\" target=\"_parent\"><img src=\"https://colab.research.google.com/assets/colab-badge.svg\" alt=\"Open In Colab\"/></a>"
      ]
    },
    {
      "cell_type": "markdown",
      "source": [
        "# NLP con Hugging Face"
      ],
      "metadata": {
        "id": "GgUNO42S9x3i"
      }
    },
    {
      "cell_type": "markdown",
      "source": [
        "## Procesando los datos para NLP"
      ],
      "metadata": {
        "id": "cPUO9PylwUcr"
      }
    },
    {
      "cell_type": "markdown",
      "source": [
        "### Descargando el dataset"
      ],
      "metadata": {
        "id": "KxAWeUN9zsaT"
      }
    },
    {
      "cell_type": "code",
      "source": [],
      "metadata": {
        "id": "b_HXFmANdVE1"
      },
      "execution_count": null,
      "outputs": []
    },
    {
      "cell_type": "markdown",
      "source": [
        "Usaremos el dataset MRPC. Este es uno de los 10 datasets que componen el [benchmark (punto de referencia) GLUE](https://huggingface.co/datasets/glue). Se utiliza para medir el rendimiento de los modelos ML en 10 tareas de clasificación de texto diferentes.\n",
        "\n",
        "En otras palabras, seleccionamos el subset `mrpc` del dataset `glue`:"
      ],
      "metadata": {
        "id": "ZrDuinME8a61"
      }
    },
    {
      "cell_type": "code",
      "source": [],
      "metadata": {
        "id": "sGMyV3iIdTUh"
      },
      "execution_count": null,
      "outputs": []
    },
    {
      "cell_type": "markdown",
      "source": [
        "Así se ve un ejemplo. Notamos que `mrpc` está compuesto de dos oraciones y una etiqueta que indica si los dos enunciados son equivalentes."
      ],
      "metadata": {
        "id": "bLRhoTyvBb_c"
      }
    },
    {
      "cell_type": "code",
      "source": [],
      "metadata": {
        "id": "A7xTuFa4zegd"
      },
      "execution_count": null,
      "outputs": []
    },
    {
      "cell_type": "code",
      "source": [],
      "metadata": {
        "id": "t_QPFmoZBmdR"
      },
      "execution_count": null,
      "outputs": []
    },
    {
      "cell_type": "code",
      "source": [],
      "metadata": {
        "id": "B74qToumCm-k"
      },
      "execution_count": null,
      "outputs": []
    },
    {
      "cell_type": "markdown",
      "source": [
        "### Tokenizando\n",
        "\n",
        "¿Recuerdas que con visión descargamos el feature extractor directamente del repositorio del modelo pre-entrenado que vamos a usar como base?\n",
        "\n",
        "Podemos pensar en la función tokenizadora como el equivalente en el NLP.\n",
        "\n",
        "Descargamos el tokenizador directamente del repo del modelo que usaremos."
      ],
      "metadata": {
        "id": "G_At65Vv0Hmz"
      }
    },
    {
      "cell_type": "code",
      "source": [],
      "metadata": {
        "id": "j02Vp1mo0hVq"
      },
      "execution_count": null,
      "outputs": []
    },
    {
      "cell_type": "markdown",
      "source": [
        "Para preprocesar el conjunto de datos necesitamos convertir el texto en números que el modelo pueda entender. Esto se hace con un tokenizador.\n",
        "\n",
        "Pasar de texto a números se conoce como codificación o encoding. El encoding se realiza en un proceso de dos pasos: la tokenización, seguida de la conversión a input ids. Por el momento nos basta saber que estamos traduciendo texto a números llamados como input ids. Estos estarán en el formato adecuado para alimentar nuestro modelo.\n",
        "\n",
        "Podemos alimentar al tokenizador con una oración o una lista de oraciones, por lo que podemos tokenizar directamente todas las primeras oraciones y todas las segundas oraciones de cada par de esta manera:"
      ],
      "metadata": {
        "id": "LUqXIm4fDi3W"
      }
    },
    {
      "cell_type": "code",
      "source": [],
      "metadata": {
        "id": "huibMGKOD-Ut"
      },
      "execution_count": null,
      "outputs": []
    },
    {
      "cell_type": "markdown",
      "source": [
        "Necesitamos manejar los dos enunciados como un par y no separados. El tokenizador puede tomar un par de secuencias y prepararlas de la manera que espera nuestro modelo:"
      ],
      "metadata": {
        "id": "iBrkzA08EslP"
      }
    },
    {
      "cell_type": "code",
      "source": [],
      "metadata": {
        "id": "3O7kBG_bE18h"
      },
      "execution_count": null,
      "outputs": []
    },
    {
      "cell_type": "markdown",
      "source": [
        "¿Qué significa cada uno de los valores que nos retorna el tokenizador?\n",
        "- `input_ids` es la traducción de palabras a números.\n",
        "- `attention_mask` es un tensor con la misma forma que `input_ids`, pero lleno de 0 y 1: los 1 indican que se debe atender a los tokens correspondientes y los 0 indican que no se deben atender. Es decir, deben ser ignorados por el modelo.\n",
        "- `token_type_ids` dice al modelo qué parte de la entrada es la primera oración y cuál es la segunda oración."
      ],
      "metadata": {
        "id": "XOzgBI7nGC31"
      }
    },
    {
      "cell_type": "markdown",
      "source": [
        "El modelo espera que las entradas sean de la forma [CLS] oración 1 [SEP] oración 2 [SEP] cuando hay dos oraciones."
      ],
      "metadata": {
        "id": "d7ewj-TxGj4P"
      }
    },
    {
      "cell_type": "code",
      "source": [],
      "metadata": {
        "id": "w6IL1vRNjehn"
      },
      "execution_count": null,
      "outputs": []
    },
    {
      "cell_type": "markdown",
      "source": [
        "Si seleccionamos otro modelo en el Hub no necesariamente tendremos `token_type_ids` en las entradas tokenizadas (por ejemplo, no se devuelven si usa un modelo `DistilBERT`). Solo se devuelven cuando el modelo sabrá qué hacer con ellas, porque los ha visto durante su preentrenamiento.\n",
        "\n",
        "En general, no necesitamos preocuparnos por si hay o no `token_type_ids` en nuestras entradas tokenizadas, siempre que usemos el tokenizador correspondiente al modelo, todo estará bien ya que el tokenizador sabe qué proporcionar al modelo.\n",
        "\n",
        "Por ejemplo, durante esta clase utilizaremos un modelo [`distilroberta-base`](https://huggingface.co/distilroberta-base) por su tamaño y efectividad. Pero no cuenta con `token_type_ids` y aún así nos regresa excelentes resultados.\n",
        "\n",
        "En la organización del Platzi en el Hub puedes encontrar un [modelo BERT](https://huggingface.co/platzi/platzi-distilroberta-base-mrpc-glue-omar-espejel) afinado siguiendo el mismo proceso que usamos en esta clase."
      ],
      "metadata": {
        "id": "uOzRDDXMG6KS"
      }
    },
    {
      "cell_type": "code",
      "source": [],
      "metadata": {
        "id": "kUn74FigzhHm"
      },
      "execution_count": null,
      "outputs": []
    },
    {
      "cell_type": "markdown",
      "source": [
        "Creamos una función tokenizadora. Recibe un ejemplo y lo tokeniza."
      ],
      "metadata": {
        "id": "YlcHOXcQ2-kW"
      }
    },
    {
      "cell_type": "code",
      "source": [],
      "metadata": {
        "id": "1hkNcAjX0nSJ"
      },
      "execution_count": null,
      "outputs": []
    },
    {
      "cell_type": "code",
      "source": [],
      "metadata": {
        "id": "49j2GVph0swg"
      },
      "execution_count": null,
      "outputs": []
    },
    {
      "cell_type": "markdown",
      "source": [
        "### Definiendo el data collator: Dynamic padding"
      ],
      "metadata": {
        "id": "dIsjhHyf3O_L"
      }
    },
    {
      "cell_type": "markdown",
      "source": [
        "Necesitamos que nuestros tensores tengan una forma rectangular. Es decir que tengan el mismo tamaño cada uno de los ejemplos. Sin embargo, los textos no necesariamente tienen el mismo tamaño.\n",
        "\n",
        "Para ello usamos el relleno o padding. El padding se asegura de que todas nuestras oraciones tengan la misma longitud al agregar una palabra especial llamada padding token a las oraciones con menos valores. Por ejemplo, si tenemos 10 oraciones con 10 palabras y 1 oración con 20 palabras, el relleno garantizará que todas las oraciones tengan 20 palabras.\n",
        "\n",
        "Dejamos el argumento de `padding` del tokenizer vacío en nuestra función de tokenización por ahora. Esto se debe a que rellenar (hacer padding) todas las muestras hasta la longitud máxima del dataset no es eficiente, es mejor rellenar las muestras cuando estamos construyendo un batch, ya que entonces solo necesitamos rellenar hasta la longitud máxima en ese batch, y no la longitud máxima en todo el dataset. ¡Esto puede ahorrar mucho tiempo y potencia de procesamiento cuando las entradas tienen longitudes muy variables!\n",
        "\n",
        "Usaremos un DataCollator para esto."
      ],
      "metadata": {
        "id": "MIH2CWjNyQ13"
      }
    },
    {
      "cell_type": "markdown",
      "source": [
        "Rellenemos (hagamos padding) todos los ejemplos con la longitud del elemento más largo del batch. A esta técnica se le conoce como relleno dinámico o dynamic padding."
      ],
      "metadata": {
        "id": "QHKCmEdneI7X"
      }
    },
    {
      "cell_type": "code",
      "source": [],
      "metadata": {
        "id": "JMjUzWDK3SzH"
      },
      "execution_count": null,
      "outputs": []
    },
    {
      "cell_type": "markdown",
      "source": [
        "## Entrenamiento y evaluación\n",
        "\n",
        "Definamos el resto de los argumentos necesarios para `Trainer`."
      ],
      "metadata": {
        "id": "tpONY8Hl3Yfb"
      }
    },
    {
      "cell_type": "markdown",
      "source": [
        "### Definiendo la métrica"
      ],
      "metadata": {
        "id": "FlfIjQnh3bhn"
      }
    },
    {
      "cell_type": "code",
      "source": [],
      "metadata": {
        "id": "Z_h5Pm9e3ZGi"
      },
      "execution_count": null,
      "outputs": []
    },
    {
      "cell_type": "markdown",
      "source": [
        "### Configurando `Trainer`\n"
      ],
      "metadata": {
        "id": "erd8wVZ13l-8"
      }
    },
    {
      "cell_type": "code",
      "source": [],
      "metadata": {
        "id": "dy9gQdTj3q1q"
      },
      "execution_count": null,
      "outputs": []
    },
    {
      "cell_type": "code",
      "source": [],
      "metadata": {
        "id": "DW93t2gG4luP"
      },
      "execution_count": null,
      "outputs": []
    },
    {
      "cell_type": "code",
      "source": [],
      "metadata": {
        "id": "GkTQ7pL85UI3"
      },
      "execution_count": null,
      "outputs": []
    },
    {
      "cell_type": "code",
      "source": [],
      "metadata": {
        "id": "4ek7pNKuyNJn"
      },
      "execution_count": null,
      "outputs": []
    },
    {
      "cell_type": "markdown",
      "source": [
        "### Entrenamiento"
      ],
      "metadata": {
        "id": "cTZJl_b_6AvW"
      }
    },
    {
      "cell_type": "code",
      "source": [],
      "metadata": {
        "id": "fyrp6fmGy3e0"
      },
      "execution_count": null,
      "outputs": []
    },
    {
      "cell_type": "markdown",
      "source": [
        "### Evaluación"
      ],
      "metadata": {
        "id": "SZ-2BxDN6TjY"
      }
    },
    {
      "cell_type": "code",
      "source": [],
      "metadata": {
        "id": "KX7GIg8b6Wsn"
      },
      "execution_count": null,
      "outputs": []
    },
    {
      "cell_type": "markdown",
      "source": [
        "### Compartimos en el Hub"
      ],
      "metadata": {
        "id": "wPxunFyM6fLy"
      }
    },
    {
      "cell_type": "code",
      "source": [],
      "metadata": {
        "id": "fowyC7_56W0S"
      },
      "execution_count": null,
      "outputs": []
    }
  ]
}